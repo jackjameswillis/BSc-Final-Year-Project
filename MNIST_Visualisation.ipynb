{
  "nbformat": 4,
  "nbformat_minor": 0,
  "metadata": {
    "colab": {
      "name": "MNIST Visualisation",
      "provenance": [],
      "collapsed_sections": [],
      "authorship_tag": "ABX9TyN+ETpQuYtzN3BlyeQzh7ju",
      "include_colab_link": true
    },
    "kernelspec": {
      "name": "python3",
      "display_name": "Python 3"
    }
  },
  "cells": [
    {
      "cell_type": "markdown",
      "metadata": {
        "id": "view-in-github",
        "colab_type": "text"
      },
      "source": [
        "<a href=\"https://colab.research.google.com/github/jackjameswillis/BSc-Final-Year-Project/blob/main/MNIST_Visualisation.ipynb\" target=\"_parent\"><img src=\"https://colab.research.google.com/assets/colab-badge.svg\" alt=\"Open In Colab\"/></a>"
      ]
    },
    {
      "cell_type": "markdown",
      "metadata": {
        "id": "xpunu3YSyg9U"
      },
      "source": [
        "The dataset used in all training experiments is the MNIST dataset, as provided by Tensorflow Keras."
      ]
    },
    {
      "cell_type": "code",
      "metadata": {
        "id": "CFIiH-fSv2Ls"
      },
      "source": [
        "import tensorflow as tf\r\n",
        "import matplotlib.pyplot as plt"
      ],
      "execution_count": 21,
      "outputs": []
    },
    {
      "cell_type": "code",
      "metadata": {
        "id": "1kUvtLjRzEgV"
      },
      "source": [
        "(x_train, y_train), (x_test, y_test) = tf.keras.datasets.mnist.load_data(path='mnist.npz')"
      ],
      "execution_count": 22,
      "outputs": []
    },
    {
      "cell_type": "markdown",
      "metadata": {
        "id": "ZdR5VjnYzmPJ"
      },
      "source": [
        "The dataset contains greyscale images of handwriten digits of shape $28\\times28$."
      ]
    },
    {
      "cell_type": "code",
      "metadata": {
        "colab": {
          "base_uri": "https://localhost:8080/",
          "height": 283
        },
        "id": "dUI4NovczR2O",
        "outputId": "e092e0f6-c1d0-461d-e83c-37a90f70e09d"
      },
      "source": [
        "plt.imshow(x_train[0])\r\n",
        "print('Class:',y_train[0])"
      ],
      "execution_count": 23,
      "outputs": [
        {
          "output_type": "stream",
          "text": [
            "Class: 5\n"
          ],
          "name": "stdout"
        },
        {
          "output_type": "display_data",
          "data": {
            "image/png": "[encoded data removed]",
            "text/plain": [
              "<Figure size 432x288 with 1 Axes>"
            ]
          },
          "metadata": {
            "tags": [],
            "needs_background": "light"
          }
        }
      ]
    },
    {
      "cell_type": "code",
      "metadata": {
        "colab": {
          "base_uri": "https://localhost:8080/",
          "height": 283
        },
        "id": "XJ7qu3wxzjCH",
        "outputId": "7152af08-925c-4f88-dcf2-2b4921077389"
      },
      "source": [
        "plt.imshow(x_test[0])\r\n",
        "print('Class:',y_test[0])"
      ],
      "execution_count": 24,
      "outputs": [
        {
          "output_type": "stream",
          "text": [
            "Class: 7\n"
          ],
          "name": "stdout"
        },
        {
          "output_type": "display_data",
          "data": {
            "image/png": "[encoded data removed]",
            "text/plain": [
              "<Figure size 432x288 with 1 Axes>"
            ]
          },
          "metadata": {
            "tags": [],
            "needs_background": "light"
          }
        }
      ]
    },
    {
      "cell_type": "markdown",
      "metadata": {
        "id": "7sr0_GH21dVo"
      },
      "source": [
        "We can find the number of classes and distribution of classes in each partition."
      ]
    },
    {
      "cell_type": "code",
      "metadata": {
        "colab": {
          "base_uri": "https://localhost:8080/",
          "height": 295
        },
        "id": "2udiJ49b0pFX",
        "outputId": "fffc971d-3c99-40d3-d61d-8cf18e5418a1"
      },
      "source": [
        "plt.hist(y_train)\r\n",
        "plt.xlabel('Class')\r\n",
        "plt.ylabel('Count')\r\n",
        "plt.title('Training Class Histogram')\r\n",
        "plt.grid(True)\r\n",
        "plt.show()"
      ],
      "execution_count": 25,
      "outputs": [
        {
          "output_type": "display_data",
          "data": {
            "image/png": "[encoded data removed]",
            "text/plain": [
              "<Figure size 432x288 with 1 Axes>"
            ]
          },
          "metadata": {
            "tags": [],
            "needs_background": "light"
          }
        }
      ]
    },
    {
      "cell_type": "code",
      "metadata": {
        "colab": {
          "base_uri": "https://localhost:8080/",
          "height": 295
        },
        "id": "fn5005br18tM",
        "outputId": "d5260446-fea8-4f6f-ddcf-83ba78f677c6"
      },
      "source": [
        "plt.hist(y_test)\r\n",
        "plt.xlabel('Class')\r\n",
        "plt.ylabel('Count')\r\n",
        "plt.title('Testing Class Histogram')\r\n",
        "plt.grid(True)\r\n",
        "plt.show()"
      ],
      "execution_count": 26,
      "outputs": [
        {
          "output_type": "display_data",
          "data": {
            "image/png": "[encoded data removed]",
            "text/plain": [
              "<Figure size 432x288 with 1 Axes>"
            ]
          },
          "metadata": {
            "tags": [],
            "needs_background": "light"
          }
        }
      ]
    },
    {
      "cell_type": "markdown",
      "metadata": {
        "id": "cGsbMyuU5fkt"
      },
      "source": [
        "We can see that the distribution of class labels is similar across each partition, which implies we are not in danger of under-represented labels. "
      ]
    },
    {
      "cell_type": "code",
      "metadata": {
        "id": "0gPqitPT5auH"
      },
      "source": [
        ""
      ],
      "execution_count": null,
      "outputs": []
    }
  ]
}